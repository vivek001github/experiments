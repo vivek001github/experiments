{
 "cells": [
  {
   "cell_type": "code",
   "execution_count": null,
   "metadata": {},
   "outputs": [],
   "source": [
    "import requests\n",
    "\n",
    "# Function to get user input for phone number and task\n",
    "def get_user_input():\n",
    "    phone_number = \"+918088211121\"  #\n",
    "    task = \"Hello, this is Namitha, Mvj college. I'm calling to inform you about your child's progress and achievements in the ongoing studies. Please let us know a convenient time to discuss this further?\"\n",
    "    return phone_number, task\n",
    "\n",
    "# Function to make the API call\n",
    "def make_call(phone_number, task):\n",
    "    # API endpoint URL\n",
    "    url = 'https://api.bland.ai/v1/calls'\n",
    "    \n",
    "    # Headers for authorization\n",
    "    headers = {\n",
    "        'Authorization': 'sk-xyvxq0srj06wea366hiqk4cez0siz9oscg3uzym2jcl1nt9uztoe6b4y3v0o7e0d69',\n",
    "        'Content-Type': 'application/json'\n",
    "    }\n",
    "    \n",
    "    # Data for the API request\n",
    "    data = {\n",
    "        \"phone_number\": phone_number,\n",
    "        \"task\": task,\n",
    "        \"model\": \"enhanced\",\n",
    "        \"language\": \"en\",\n",
    "        \"voice\": \"nat\",\n",
    "        \"max_duration\": 12,\n",
    "        \"interruption_threshold\": 100\n",
    "    }\n",
    "    \n",
    "    # Make the POST request\n",
    "    response = requests.post(url, json=data, headers=headers)\n",
    "    \n",
    "    # Check if the request was successful (status code 200)\n",
    "    if response.status_code == 200:\n",
    "        print(\"Call request successful.\")\n",
    "    else:\n",
    "        print(f\"Call request failed with status code {response.status_code}.\")\n",
    "        print(response.text)  # Print the error message if available\n",
    "\n",
    "# Main function to execute the script\n",
    "def main():\n",
    "    phone_number, task = get_user_input()\n",
    "    make_call(phone_number, task)\n",
    "\n",
    "# Entry point of the script\n",
    "if __name__ == \"__main__\":\n",
    "    main()\n"
   ]
  }
 ],
 "metadata": {
  "kernelspec": {
   "display_name": ".venv",
   "language": "python",
   "name": "python3"
  },
  "language_info": {
   "name": "python",
   "version": "3.10.12"
  }
 },
 "nbformat": 4,
 "nbformat_minor": 2
}
